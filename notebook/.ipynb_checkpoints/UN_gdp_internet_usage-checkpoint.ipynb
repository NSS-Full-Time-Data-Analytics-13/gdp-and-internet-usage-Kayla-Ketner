{
 "cells": [
  {
   "cell_type": "code",
   "execution_count": null,
   "id": "9a517b6a-1f04-4e57-8be7-19f545af4c85",
   "metadata": {},
   "outputs": [],
   "source": [
    "import pandas as pd   \n",
    "import numpy as np  \n",
    "import matplotlib.pyplot as plt \n",
    "import seaborn as sns"
   ]
  },
  {
   "cell_type": "markdown",
   "id": "2a66b60e-bf33-4e34-9bb6-0f8197fdb44d",
   "metadata": {},
   "source": [
    "Using the pandas read_csv() method, read the GDP dataset into your notebook as a DataFrame called gdp_df. Take a look at the first few and last few rows to familiarize yourself with what is contained in this dataset."
   ]
  },
  {
   "cell_type": "code",
   "execution_count": null,
   "id": "8ecbc838-9faf-4d70-a5e2-09a853477a52",
   "metadata": {},
   "outputs": [],
   "source": [
    "gdp_df=pd.read_csv('../data/gdp_percapita.csv')\n",
    "gdp_df.head()"
   ]
  },
  {
   "cell_type": "code",
   "execution_count": null,
   "id": "0d1a8e5a-7c56-40cf-a903-14bda8f77daf",
   "metadata": {},
   "outputs": [],
   "source": [
    "gdp_df.tail()"
   ]
  },
  {
   "cell_type": "markdown",
   "id": "a36fb6c3-402a-490f-bd40-c0ef5d8b7796",
   "metadata": {},
   "source": [
    "How many rows and columns are in `gdp_df`? 7662 rows and 4 columns"
   ]
  },
  {
   "cell_type": "code",
   "execution_count": null,
   "id": "fdddebee-ee10-4bf5-aa5e-1639e42c8950",
   "metadata": {},
   "outputs": [],
   "source": [
    "gdp_df.shape"
   ]
  },
  {
   "cell_type": "markdown",
   "id": "95569b80-386a-4820-a3f2-bb74f8941fe5",
   "metadata": {},
   "source": [
    "What are the data types of each column? Country or Area=object, \n",
    "Year= int64, \n",
    "Value= float64,\n",
    "Value Footnotes= float64"
   ]
  },
  {
   "cell_type": "code",
   "execution_count": null,
   "id": "dd3683b9-aede-4a4b-ad45-4c33b0886a26",
   "metadata": {},
   "outputs": [],
   "source": [
    "gdp_df.dtypes"
   ]
  },
  {
   "cell_type": "markdown",
   "id": "6c6e3d95-9a49-46b0-943e-df8797c8ef2f",
   "metadata": {},
   "source": [
    "Drop the `Value Footnotes` column and rename the remaining three to 'Country', 'Year', and 'GDP_Per_Capita'."
   ]
  },
  {
   "cell_type": "code",
   "execution_count": null,
   "id": "ce2e3428-eb8d-4b1f-b7ad-b7dd10595206",
   "metadata": {},
   "outputs": [],
   "source": [
    "gdp_df=gdp_df.drop(columns=['Value Footnotes'])"
   ]
  },
  {
   "cell_type": "code",
   "execution_count": null,
   "id": "a6e95a90-65cf-4bb1-8063-cda40d2bad22",
   "metadata": {},
   "outputs": [],
   "source": [
    "gdp_df.columns=['Country', 'Year','GDP_Per_Capita']"
   ]
  },
  {
   "cell_type": "markdown",
   "id": "030bb26d-8421-43e9-8675-10f43e898144",
   "metadata": {},
   "source": [
    "How many countries have data for all years? 202"
   ]
  },
  {
   "cell_type": "code",
   "execution_count": null,
   "id": "80e6fc76-a79a-4510-a22a-afeb0be64f13",
   "metadata": {},
   "outputs": [],
   "source": [
    "country_count=gdp_df.Country.value_counts()\n",
    "country_count"
   ]
  },
  {
   "cell_type": "code",
   "execution_count": null,
   "id": "d0561ed7-b7fd-4a95-ac5e-ae7bcedc3089",
   "metadata": {},
   "outputs": [],
   "source": [
    "country_count=country_count.to_frame()\n",
    "country_count"
   ]
  },
  {
   "cell_type": "code",
   "execution_count": null,
   "id": "8bf9e9d4-61b2-4e95-88b9-5a814eb71126",
   "metadata": {},
   "outputs": [],
   "source": [
    "country_count.columns=['count']"
   ]
  },
  {
   "cell_type": "code",
   "execution_count": null,
   "id": "58c55b74-9938-4218-83aa-fb3f1ba9f532",
   "metadata": {},
   "outputs": [],
   "source": [
    "country_count.loc[country_count['count']==33]"
   ]
  },
  {
   "cell_type": "markdown",
   "id": "40c23f00-8c4e-4530-a9d2-71828ea7e917",
   "metadata": {},
   "source": [
    "Which countries are missing many years of data? "
   ]
  },
  {
   "cell_type": "code",
   "execution_count": null,
   "id": "42fa8c93-e734-4c71-be43-87997c60e7b9",
   "metadata": {},
   "outputs": [],
   "source": [
    "missing_data=country_count.loc[country_count['count']!=33]\n",
    "missing_data"
   ]
  },
  {
   "cell_type": "code",
   "execution_count": null,
   "id": "4f6720b0-46ae-4b5e-84cc-129098959867",
   "metadata": {},
   "outputs": [],
   "source": [
    "missing_data=missing_data.reset_index()\n",
    "missing_data"
   ]
  },
  {
   "cell_type": "markdown",
   "id": "037a6a74-ad82-4a22-a003-2ea767e57093",
   "metadata": {},
   "source": [
    "Look at the number of observations per year. What do you notice? The older the record, the more data that is missing for that year."
   ]
  },
  {
   "cell_type": "code",
   "execution_count": null,
   "id": "64efa9b5-7337-4fa7-93da-c1be1c0fad19",
   "metadata": {},
   "outputs": [],
   "source": [
    "missing_data=pd.merge(gdp_df,missing_data,left_on='Country', right_on='Country',how='inner')\n",
    "missing_data"
   ]
  },
  {
   "cell_type": "code",
   "execution_count": null,
   "id": "dda86a5a-019b-49b3-97ec-18c650647447",
   "metadata": {},
   "outputs": [],
   "source": [
    "missing_data.Year.value_counts()"
   ]
  },
  {
   "cell_type": "markdown",
   "id": "8d3f8649-198d-48e3-b395-81f85e44a411",
   "metadata": {},
   "source": [
    "In this question, you're going to create some plots to show the distribution of GDP per capita for the year 2020. \n",
    "\n",
    "What do you notice when you look at these plots? Most countries have a GDP per capita below 25000 for the year 2020.\n",
    "\n",
    "How do the plots compare and what information can you get out of one type that you can't necessarily get out of the others? The box and whisker clearly shows the quartiles and any outliers, but the histogram can display the counts for each GDP per Capita range. The density chart is similar in output to the histogram, but the denisty of distribution is a bit confusing to read compared to just giving the straight counts to a non-technical audience. So I think the histogram would be a better choice between the two if you are looking to see how many countries had a certain GDP per capita. The violin is almost a combination of the density chart and box and whisker plot, but neither the outliers nor the IQR are as easily distiginushed. The box and whisker over the violin would be a better choice if looking for the IQR and outliers of the GDP per capita. "
   ]
  },
  {
   "cell_type": "code",
   "execution_count": null,
   "id": "0c2c68fa-530c-4fc0-8184-615ef451383e",
   "metadata": {},
   "outputs": [],
   "source": [
    "gdp_2020=gdp_df.loc[gdp_df.Year==2020]\n",
    "gdp_2020"
   ]
  },
  {
   "cell_type": "markdown",
   "id": "4454e006-5822-41fb-a5ed-8387ec19abb5",
   "metadata": {},
   "source": [
    "Histogram"
   ]
  },
  {
   "cell_type": "code",
   "execution_count": null,
   "id": "0aaa2e58-050a-4e6d-a02d-1bfa4bdf5de7",
   "metadata": {},
   "outputs": [],
   "source": [
    "sns.histplot(data=gdp_2020,x='GDP_Per_Capita')\n",
    "plt.show()"
   ]
  },
  {
   "cell_type": "markdown",
   "id": "01bbb8ab-c261-46a3-b097-abb3997226ec",
   "metadata": {},
   "source": [
    "Density Chart"
   ]
  },
  {
   "cell_type": "code",
   "execution_count": null,
   "id": "92111986-dfc7-4734-a47c-13d18197b3bb",
   "metadata": {},
   "outputs": [],
   "source": [
    "sns.kdeplot(gdp_2020['GDP_Per_Capita'])\n",
    "plt.show()"
   ]
  },
  {
   "cell_type": "markdown",
   "id": "371f0141-b09a-4982-bfe6-b842203f82c9",
   "metadata": {},
   "source": [
    "Boxplot"
   ]
  },
  {
   "cell_type": "code",
   "execution_count": null,
   "id": "2a6b59a1-77a5-4dc8-b76e-b3952bea5350",
   "metadata": {},
   "outputs": [],
   "source": [
    "sns.boxplot(x=gdp_2020['GDP_Per_Capita'])\n",
    "plt.show()"
   ]
  },
  {
   "cell_type": "markdown",
   "id": "3e29fcb3-ebfc-4331-8b12-a70a6ac31ebc",
   "metadata": {},
   "source": [
    "Violin Plot"
   ]
  },
  {
   "cell_type": "code",
   "execution_count": null,
   "id": "65bbfec1-82ae-4fd2-94f0-79c3b8b2f986",
   "metadata": {},
   "outputs": [],
   "source": [
    "sns.violinplot(x=gdp_2020['GDP_Per_Capita'])\n",
    "plt.show()"
   ]
  },
  {
   "cell_type": "markdown",
   "id": "cd1deac6-91e3-4a73-a30f-f49ae9e7f693",
   "metadata": {},
   "source": [
    "What was the median GDP per capita value in 2020? 13357.997573"
   ]
  },
  {
   "cell_type": "code",
   "execution_count": null,
   "id": "4e671b39-724c-43b5-89af-856d33577ab1",
   "metadata": {},
   "outputs": [],
   "source": [
    "gdp_2020['GDP_Per_Capita'].median()"
   ]
  },
  {
   "cell_type": "markdown",
   "id": "dc0f192a-858e-4c03-932e-d0d92e3c9674",
   "metadata": {},
   "source": [
    "For this question, you're going to create some visualizations to compare GDP per capita values for the years 1990, 2000, 2010, and 2020. Start by subsetting your data to just these 4 years into a new DataFrame named gdp_decades.  \n",
    "\n",
    "Comment on what you observe has happened to GDP values over time and the relative strengths and weaknesses of each type of plot: Over time, there is an upward trend and increase in GDP per Capita. The scatterplot with the trend line shows this very clearly. The scatterplots and box and whisker plot can be used to identify outliers fairly quickly, but the box and whisker plot has the added benefit of showing the IQR. The barplot is the weakest in terms of total information displayed because it does not show individual points per year or the IQR, it also only gives a GDP per Capita range up to 20000 making it impossible to identify outliers. It only shows the mean per year, and while you can still see the upward trend over time, overall, it is very limited in the inforamtion conveyed in comparison to the other charts."
   ]
  },
  {
   "cell_type": "code",
   "execution_count": null,
   "id": "a888c3ef-7a70-431e-a808-5aa33f1d5dcd",
   "metadata": {},
   "outputs": [],
   "source": [
    "my_list=[1990,2000,2010,2020]\n",
    "gdp_decades=gdp_df.loc[gdp_df.Year.isin(my_list)]\n",
    "gdp_decades.head()"
   ]
  },
  {
   "cell_type": "markdown",
   "id": "71023e9b-df66-4986-97c3-feacdda8db7d",
   "metadata": {},
   "source": [
    "Boxplot"
   ]
  },
  {
   "cell_type": "code",
   "execution_count": null,
   "id": "33359f56-da5a-4119-ba70-ace3061ed972",
   "metadata": {},
   "outputs": [],
   "source": [
    "sns.boxplot(x=gdp_decades['Year'],y=gdp_decades['GDP_Per_Capita'])\n",
    "plt.show()"
   ]
  },
  {
   "cell_type": "markdown",
   "id": "e5dedd80-293b-4eea-b7ea-729e3676d48c",
   "metadata": {},
   "source": [
    "Barplot"
   ]
  },
  {
   "cell_type": "code",
   "execution_count": null,
   "id": "e185f8d5-96ee-41d2-8421-46469300de7d",
   "metadata": {},
   "outputs": [],
   "source": [
    "sns.barplot(x='Year',y='GDP_Per_Capita',data=gdp_decades,errorbar=None)\n",
    "plt.show();"
   ]
  },
  {
   "cell_type": "markdown",
   "id": "f5e250ef-c963-44ab-a738-92319f2c6b55",
   "metadata": {},
   "source": [
    "Scatterplot"
   ]
  },
  {
   "cell_type": "code",
   "execution_count": null,
   "id": "a35fde68-86d6-47d9-9025-865345373480",
   "metadata": {},
   "outputs": [],
   "source": [
    "plt.scatter(x='Year',y='GDP_Per_Capita',data=gdp_decades);"
   ]
  },
  {
   "cell_type": "markdown",
   "id": "d595f757-f02b-4697-a732-c1691e19d555",
   "metadata": {},
   "source": [
    "Scatterplot with trend line"
   ]
  },
  {
   "cell_type": "code",
   "execution_count": null,
   "id": "65e50431-3765-448f-b198-81ed4f75f68c",
   "metadata": {},
   "outputs": [],
   "source": [
    "sns.regplot(x=gdp_decades['Year'],y=gdp_decades['GDP_Per_Capita'])\n",
    "plt.show()"
   ]
  },
  {
   "cell_type": "markdown",
   "id": "e6e78cbd-be3d-4d12-9042-238591dfcb46",
   "metadata": {},
   "source": [
    "Which country was the first to have a GDP per capita greater than $100,000? United Arab Emirates"
   ]
  },
  {
   "cell_type": "code",
   "execution_count": null,
   "id": "20947641-bc98-4c97-8760-411921004492",
   "metadata": {},
   "outputs": [],
   "source": [
    "gdp_100000=gdp_df.loc[gdp_df.GDP_Per_Capita>100000]\n",
    "gdp_100000.sort_values(by='Year').head(1)"
   ]
  },
  {
   "cell_type": "markdown",
   "id": "9b884a60-dda7-47a4-9b8e-1264bba1c73f",
   "metadata": {},
   "source": [
    "Which country had the highest GDP per capita in 2020? Luxembourg\n",
    "\n",
    "Create a plot showing how this country's GDP per capita has changed over the timespan of the dataset."
   ]
  },
  {
   "cell_type": "code",
   "execution_count": null,
   "id": "1a7865a7-dde6-497c-acaa-3947ed1c3d20",
   "metadata": {},
   "outputs": [],
   "source": [
    "gdp_2020.sort_values(by='GDP_Per_Capita', ascending=False).head(1)"
   ]
  },
  {
   "cell_type": "code",
   "execution_count": null,
   "id": "6346bb78-422a-4edd-b509-e7b81c333926",
   "metadata": {},
   "outputs": [],
   "source": [
    "lux=gdp_df.loc[gdp_df['Country']=='Luxembourg']\n",
    "lux"
   ]
  },
  {
   "cell_type": "code",
   "execution_count": null,
   "id": "552c2b1b-f171-4065-8f6f-693153029830",
   "metadata": {},
   "outputs": [],
   "source": [
    "sns.regplot(x=lux['Year'],y=lux['GDP_Per_Capita'])\n",
    "plt.show()"
   ]
  },
  {
   "cell_type": "markdown",
   "id": "a49f6442-1b37-4db6-8b53-6a3269680c07",
   "metadata": {},
   "source": [
    "Which country had the lowest GDP per capita in 2020? Burundi\n",
    "\n",
    "Create a plot showing how this country's GDP per capita has changed over the timespan of the dataset."
   ]
  },
  {
   "cell_type": "code",
   "execution_count": null,
   "id": "fa11064a-8bd8-4c39-b483-3a211f0d0507",
   "metadata": {},
   "outputs": [],
   "source": [
    "gdp_2020.sort_values(by='GDP_Per_Capita').head(1)"
   ]
  },
  {
   "cell_type": "code",
   "execution_count": null,
   "id": "a88f665a-2c96-45ff-afa2-41cae3c6faf6",
   "metadata": {},
   "outputs": [],
   "source": [
    "Burundi=gdp_df.loc[gdp_df['Country']=='Burundi']\n",
    "Burundi"
   ]
  },
  {
   "cell_type": "code",
   "execution_count": null,
   "id": "04fdd6a6-8bc8-47c8-b419-b54bbcbe441d",
   "metadata": {},
   "outputs": [],
   "source": [
    "sns.regplot(x=Burundi['Year'],y=Burundi['GDP_Per_Capita'])\n",
    "plt.show()"
   ]
  },
  {
   "cell_type": "markdown",
   "id": "fd3226a2-add4-4bba-a8c1-4274e8b0f40c",
   "metadata": {},
   "source": [
    "**Bonus question:** Is it true in general that coutries had a higher GDP per capita in 2020 than in 1990? Yes"
   ]
  },
  {
   "cell_type": "code",
   "execution_count": null,
   "id": "f5006636-b914-4ddb-8291-edb85a374b61",
   "metadata": {},
   "outputs": [],
   "source": [
    "years=[2020,1990]\n",
    "years_compare=gdp_df.loc[gdp_df.Year.isin(years)].sort_values(by=['Year'])\n",
    "sns.boxplot(x=years_compare['Year'],y=years_compare['GDP_Per_Capita'])\n",
    "plt.show()"
   ]
  },
  {
   "cell_type": "markdown",
   "id": "ebd3680c-fc0e-4eb9-ac6b-4f17d37b1c17",
   "metadata": {},
   "source": [
    "**Bonus Part 2**: Which countries had lower GDP per capita in 2020 than in 1990? There are 17 countries that have a lower GDP per Capita in 2020 than in 1990."
   ]
  },
  {
   "cell_type": "code",
   "execution_count": null,
   "id": "a412b056-83d2-4ed0-a630-bc5e926350e9",
   "metadata": {},
   "outputs": [],
   "source": [
    "gdp_2020=gdp_df.loc[gdp_df['Year']==2020]\n",
    "gdp_1990=gdp_df.loc[gdp_df['Year']==1990]\n",
    "gdp_2020=gdp_2020.rename(columns={'GDP_Per_Capita':'GDP_2020'})\n",
    "gdp_1990=gdp_1990.rename(columns={'GDP_Per_Capita':'GDP_1990'})\n",
    "gdp_2020=gdp_2020.drop(columns=['Year'])\n",
    "gdp_1990=gdp_1990.drop(columns=['Year'])"
   ]
  },
  {
   "cell_type": "code",
   "execution_count": null,
   "id": "15352eb9-02d3-40cb-924b-baaa7768e706",
   "metadata": {},
   "outputs": [],
   "source": [
    "years_GDP_diff=pd.merge(gdp_2020,gdp_1990, left_on='Country', right_on='Country', how='inner')"
   ]
  },
  {
   "cell_type": "code",
   "execution_count": null,
   "id": "23de64a4-e95d-407b-981a-a3ac28c1d1de",
   "metadata": {},
   "outputs": [],
   "source": [
    "countries_with_higher_GDP_in_1990=years_GDP_diff.loc[years_GDP_diff['GDP_2020']<years_GDP_diff['GDP_1990']]\n",
    "countries_with_higher_GDP_in_1990.reset_index(drop=True)"
   ]
  },
  {
   "cell_type": "markdown",
   "id": "f7094f97-9231-44f2-a18a-420e2e1741d3",
   "metadata": {},
   "source": [
    "Read in the internet use dataset into a DataFrame named `internet_df`. Once you are able to read it in, take a look at the top and bottom few rows to make sure that it has been read in correctly. Also, check the datatypes of the columns."
   ]
  },
  {
   "cell_type": "code",
   "execution_count": null,
   "id": "0b0b16b1-bc72-4fd4-ab11-2e3d9762f99f",
   "metadata": {},
   "outputs": [],
   "source": [
    "internet_df=pd.read_csv('../data/internet_use.csv',nrows=6083)\n",
    "internet_df.head()"
   ]
  },
  {
   "cell_type": "code",
   "execution_count": null,
   "id": "69ff3c82-230a-4a7b-90f3-54cf9a94cad8",
   "metadata": {},
   "outputs": [],
   "source": [
    "internet_df.tail()"
   ]
  },
  {
   "cell_type": "code",
   "execution_count": null,
   "id": "a25fd6ac-ead3-4d7b-9b6d-0b4ae19dce59",
   "metadata": {},
   "outputs": [],
   "source": [
    "internet_df.dtypes"
   ]
  },
  {
   "cell_type": "markdown",
   "id": "f451bda7-0959-4a0b-b47e-ce136ec813b5",
   "metadata": {},
   "source": [
    "Drop the `Value Footnotes` column and rename the remaining three to 'Country', 'Year', and 'Internet_Users_Pct'."
   ]
  },
  {
   "cell_type": "code",
   "execution_count": null,
   "id": "105d2898-f68b-4a4f-85d0-01562406acdb",
   "metadata": {},
   "outputs": [],
   "source": [
    "internet_df=internet_df.drop(columns=['Value Footnotes'])"
   ]
  },
  {
   "cell_type": "code",
   "execution_count": null,
   "id": "ed9a48b0-eb7f-4488-8bc7-10319689ba7e",
   "metadata": {},
   "outputs": [],
   "source": [
    "internet_df.columns=['Country', 'Year','Internet_Users_Pct']"
   ]
  },
  {
   "cell_type": "markdown",
   "id": "99a65dd1-ae5f-48bc-885a-4866be1d63f5",
   "metadata": {},
   "source": [
    "Look at the number of observations in this dataset per year. What do you notice? The oldest year has the highest number of values, but the most recent year has the least. With reporting records increasing and internet usage spreading as the years go on, this doesn't make sense and should not be the case."
   ]
  },
  {
   "cell_type": "code",
   "execution_count": null,
   "id": "2c453d03-97ce-4a39-8196-7ecea7094d84",
   "metadata": {},
   "outputs": [],
   "source": [
    "internet_df.Year.value_counts()"
   ]
  },
  {
   "cell_type": "markdown",
   "id": "4ace3cc8-8ac4-459f-9e4a-b60147da9a9a",
   "metadata": {},
   "source": [
    "What is the first year to have a non-zero internet users percentage value? 1990"
   ]
  },
  {
   "cell_type": "code",
   "execution_count": null,
   "id": "db57ecd8-8c0d-4e8c-b66c-29bd8afd0c77",
   "metadata": {},
   "outputs": [],
   "source": [
    "internet_df.loc[internet_df['Internet_Users_Pct']!=0].sort_values(by='Year').head(1)"
   ]
  },
  {
   "cell_type": "markdown",
   "id": "0f91943b-46bd-4ed9-8a9c-7a3830acc6f7",
   "metadata": {},
   "source": [
    "How does the distribution of internet users percent differ for 2000 and 2014? There is a more widespread 'Internet_Users_Pct' distribution for 2014. So a higher percentage of the population is using the internet in 2014 vs 2000. There are no outliers for 2014 either."
   ]
  },
  {
   "cell_type": "code",
   "execution_count": null,
   "id": "0a206f2e-94aa-492f-8b8d-0c849ad7f0c3",
   "metadata": {},
   "outputs": [],
   "source": [
    "years=internet_df.loc[internet_df['Year'].isin([2000,2014])]"
   ]
  },
  {
   "cell_type": "code",
   "execution_count": null,
   "id": "25be2b14-4cc4-4ea8-ae93-8dcb2e0a63b3",
   "metadata": {},
   "outputs": [],
   "source": [
    "sns.boxplot(x=years['Year'],y=years['Internet_Users_Pct'])\n",
    "plt.show()"
   ]
  },
  {
   "cell_type": "markdown",
   "id": "74abbba5-5ec2-4c4d-b38f-288c6d214e41",
   "metadata": {},
   "source": [
    "For how many countries was the percentage of internet users below 5% in 2014? 10"
   ]
  },
  {
   "cell_type": "code",
   "execution_count": null,
   "id": "a3e66b59-cf98-4dca-9fdd-b37536f518d2",
   "metadata": {},
   "outputs": [],
   "source": [
    "internet_df.loc[(internet_df['Year']==2014)&(internet_df['Internet_Users_Pct']<5)].shape"
   ]
  },
  {
   "cell_type": "markdown",
   "id": "ecbb3b43-1601-4cf0-b98b-68a223843bd9",
   "metadata": {},
   "source": [
    "Merge the two DataFrames to one. Do this in a way that keeps **all rows** from each of the two DataFrames. Call the new DataFrame `gdp_and_internet_use`. Look at the first and last few rows to confirm that it merged correctly."
   ]
  },
  {
   "cell_type": "code",
   "execution_count": null,
   "id": "0be4cd5a-b05e-4285-b9c2-c5375513aed5",
   "metadata": {},
   "outputs": [],
   "source": [
    "gdp_and_internet_use=pd.merge(gdp_df,internet_df,left_on=['Country','Year'],right_on=['Country','Year'], how='outer')"
   ]
  },
  {
   "cell_type": "code",
   "execution_count": null,
   "id": "f18d6b89-6c48-43b6-b8bd-a4517d802b0f",
   "metadata": {},
   "outputs": [],
   "source": [
    "gdp_and_internet_use.head()"
   ]
  },
  {
   "cell_type": "code",
   "execution_count": null,
   "id": "bf34e101-868d-4ec7-bd6d-92ff0071519e",
   "metadata": {},
   "outputs": [],
   "source": [
    "gdp_and_internet_use.tail()"
   ]
  },
  {
   "cell_type": "markdown",
   "id": "13c0ef8b-f7b4-45ce-b55d-e42ee43daf1c",
   "metadata": {},
   "source": [
    "Find the three countries with the highest internet users percentage in 2014. Iceland, Falkland Islands, Bermuda"
   ]
  },
  {
   "cell_type": "code",
   "execution_count": null,
   "id": "30626a3e-841b-4067-aed3-05dac3521cda",
   "metadata": {},
   "outputs": [],
   "source": [
    "gdp_and_internet_use.loc[gdp_and_internet_use['Year']==2014].sort_values(by='Internet_Users_Pct',ascending=False).head(3)"
   ]
  },
  {
   "cell_type": "markdown",
   "id": "7432ed6d-fc1e-4aca-b631-2fa029f9566a",
   "metadata": {},
   "source": [
    "Use a seaborn FacetGrid to compare how the GDP per capita has changed over time for these three countries. What do you notice? The Falklands have no GDP_Per_Capita data. For Iceland and Bermuda, there is a general overall upward trend in GDP_Per_Capita. Both have peaks just before the financial crisis of 2007/2008, and dips directly following it. There are also corresponding dips for the 2020 Covid pandemic."
   ]
  },
  {
   "cell_type": "code",
   "execution_count": null,
   "id": "e881d0bc-6448-4bb2-ac4b-26c398457489",
   "metadata": {},
   "outputs": [],
   "source": [
    "highest_internet_2014=gdp_and_internet_use.loc[gdp_and_internet_use['Country'].isin(['Iceland','Falkland (Malvinas) Islands','Bermuda'])]"
   ]
  },
  {
   "cell_type": "code",
   "execution_count": null,
   "id": "0e8aadb7-4133-4b52-b8ee-ebf152937af2",
   "metadata": {},
   "outputs": [],
   "source": [
    "g=sns.FacetGrid(highest_internet_2014,col='Country',hue='Country')\n",
    "g.map(sns.scatterplot,'Year', 'GDP_Per_Capita')\n",
    "g.add_legend();"
   ]
  },
  {
   "cell_type": "markdown",
   "id": "e2d9321c-6746-4581-a13d-31a4f87aa1c3",
   "metadata": {},
   "source": [
    "Subset `gdp_and_internet_use` to just the year 2014. Save this as a new dataframe named `gdp_and_internet_use_2014`."
   ]
  },
  {
   "cell_type": "code",
   "execution_count": null,
   "id": "8884bda5-27a0-4aed-b0e4-33c3cfb8a024",
   "metadata": {},
   "outputs": [],
   "source": [
    "gdp_and_internet_use_2014=gdp_and_internet_use.loc[gdp_and_internet_use['Year']==2014]"
   ]
  },
  {
   "cell_type": "code",
   "execution_count": null,
   "id": "a751c6b3-c847-4533-9426-9f7115437eca",
   "metadata": {},
   "outputs": [],
   "source": [
    "gdp_and_internet_use_2014=gdp_and_internet_use_2014.reset_index(drop=True)"
   ]
  },
  {
   "cell_type": "markdown",
   "id": "0f93935d-0f25-428c-ae88-67350bca0301",
   "metadata": {},
   "source": [
    "Create a plot which compares Internet Users Percentage and GDP per Capita for the year 2014. What do you notice from this plot? Generally, the higher the GDP per Capita, the higher the Internet users percentage will be."
   ]
  },
  {
   "cell_type": "code",
   "execution_count": null,
   "id": "61bfa860-207e-4a61-a89b-43d483ab0abc",
   "metadata": {},
   "outputs": [],
   "source": [
    "sns.scatterplot(gdp_and_internet_use_2014,x='Internet_Users_Pct',y='GDP_Per_Capita')\n",
    "plt.title('GDP per Capita and Percentage of Internet Users for 2014');"
   ]
  },
  {
   "cell_type": "markdown",
   "id": "b2c6a26e-837b-48d3-ad43-4ee396e882e5",
   "metadata": {},
   "source": [
    "If you see any unusual points, investigate them."
   ]
  },
  {
   "cell_type": "markdown",
   "id": "56317631-62a7-410d-bc68-8401a2ee656f",
   "metadata": {},
   "source": [
    "Use the `qcut` function from pandas to divide countries in `gdp_per_capita_2014` into three groups based on their GDP per capita values. Label these groups as \"Low\", \"Medium\", and \"High\". Put these labels in a new column, named \"GDP_group\"."
   ]
  },
  {
   "cell_type": "code",
   "execution_count": null,
   "id": "06e23d3f-1f91-4ae5-a23d-406624f1e99d",
   "metadata": {},
   "outputs": [],
   "source": [
    "gdp_and_internet_use_2014['GDP_group']=pd.qcut(gdp_and_internet_use_2014.GDP_Per_Capita,[0,.33,.66,1],labels=[\"Low\",\"Medium\",\"High\"])"
   ]
  },
  {
   "cell_type": "code",
   "execution_count": null,
   "id": "bcaf8e5d-5b93-4392-bb33-f041d33eaf53",
   "metadata": {},
   "outputs": [],
   "source": [
    "gdp_and_internet_use_2014"
   ]
  },
  {
   "cell_type": "markdown",
   "id": "6ebc94f7-f525-4151-abad-2189c48a43fe",
   "metadata": {},
   "source": [
    "How does the median internet users percentage compare for the three gdp groups?"
   ]
  },
  {
   "cell_type": "code",
   "execution_count": null,
   "id": "282854b3-0b69-4f6d-b091-6736d6a56a80",
   "metadata": {},
   "outputs": [],
   "source": [
    "low_2014=gdp_and_internet_use_2014.loc[gdp_and_internet_use_2014['GDP_group']=='Low']"
   ]
  },
  {
   "cell_type": "code",
   "execution_count": null,
   "id": "7d2a4bac-e171-45a2-9fc6-6bfc599afcd8",
   "metadata": {},
   "outputs": [],
   "source": [
    "medium_2014=gdp_and_internet_use_2014.loc[gdp_and_internet_use_2014['GDP_group']=='Medium']"
   ]
  },
  {
   "cell_type": "code",
   "execution_count": null,
   "id": "cd421521-c005-465a-8116-d6c5086f9ea6",
   "metadata": {},
   "outputs": [],
   "source": [
    "high_2014=gdp_and_internet_use_2014.loc[gdp_and_internet_use_2014['GDP_group']=='High']"
   ]
  },
  {
   "cell_type": "code",
   "execution_count": null,
   "id": "0aa854a8-f312-4917-92ce-77e94d682d6a",
   "metadata": {},
   "outputs": [],
   "source": [
    "low_median=low_2014['Internet_Users_Pct'].median()\n",
    "print(low_median)\n",
    "medium_median=medium_2014['Internet_Users_Pct'].median()\n",
    "print(medium_median)\n",
    "high_median=high_2014['Internet_Users_Pct'].median()\n",
    "print(high_median)"
   ]
  },
  {
   "cell_type": "code",
   "execution_count": null,
   "id": "e0d9f75b-6fd7-4302-9bb7-449b5f27226f",
   "metadata": {},
   "outputs": [],
   "source": [
    "medians=[low_2014['Internet_Users_Pct'].median(), medium_2014['Internet_Users_Pct'].median(),high_2014['Internet_Users_Pct'].median()]\n",
    "labels=['Low','Medium','High']"
   ]
  },
  {
   "cell_type": "code",
   "execution_count": null,
   "id": "c6fcb1b5-bd49-45d5-a4fb-0f52c2c33e9b",
   "metadata": {},
   "outputs": [],
   "source": [
    "plt.bar(labels,medians)\n",
    "plt.xlabel('GDP_Group')\n",
    "plt.ylabel('Median_GDP')\n",
    "plt.title('Median GDP per Capita by GDP Group for 2014')\n",
    "plt.show();"
   ]
  }
 ],
 "metadata": {
  "kernelspec": {
   "display_name": "Python 3 (ipykernel)",
   "language": "python",
   "name": "python3"
  },
  "language_info": {
   "codemirror_mode": {
    "name": "ipython",
    "version": 3
   },
   "file_extension": ".py",
   "mimetype": "text/x-python",
   "name": "python",
   "nbconvert_exporter": "python",
   "pygments_lexer": "ipython3",
   "version": "3.11.7"
  }
 },
 "nbformat": 4,
 "nbformat_minor": 5
}
